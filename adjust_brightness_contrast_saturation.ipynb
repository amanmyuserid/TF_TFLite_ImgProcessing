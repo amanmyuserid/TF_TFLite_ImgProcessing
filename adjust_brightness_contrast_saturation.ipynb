{
 "cells": [
  {
   "cell_type": "code",
   "execution_count": 1,
   "metadata": {},
   "outputs": [
    {
     "name": "stdout",
     "output_type": "stream",
     "text": [
      "brightness\n",
      "12\n",
      "brightness\n",
      "17\n",
      "brightness\n",
      "25\n",
      "brightness\n",
      "59\n",
      "brightness\n",
      "12\n",
      "brightness\n",
      "1\n",
      "brightness\n",
      "-61\n",
      "brightness\n",
      "-77\n",
      "brightness\n",
      "-26\n",
      "brightness\n",
      "-76\n",
      "brightness\n",
      "50\n",
      "brightness\n",
      "-20\n",
      "brightness\n",
      "50\n",
      "brightness\n",
      "-79\n",
      "brightness\n",
      "-35\n",
      "brightness\n",
      "57\n",
      "brightness\n",
      "49\n",
      "brightness\n",
      "-7\n",
      "brightness\n",
      "-13\n",
      "brightness\n",
      "-62\n",
      "brightness\n",
      "8\n"
     ]
    },
    {
     "data": {
      "text/plain": [
       "True"
      ]
     },
     "execution_count": 1,
     "metadata": {},
     "output_type": "execute_result"
    }
   ],
   "source": [
    "import cv2\n",
    "import numpy as np\n",
    "\n",
    "def adjust_one(img, adjustment_type, value):\n",
    "    if adjustment_type == 'brightness':\n",
    "        img = np.int16(img)\n",
    "        img = img + value\n",
    "        img = np.clip(img, 0, 255)\n",
    "        img = np.uint8(img)\n",
    "    elif adjustment_type == 'contrast':\n",
    "        img = np.int16(img)\n",
    "        img = img * (value/127+1) - value\n",
    "        img = np.clip(img, 0, 255)\n",
    "        img = np.uint8(img)\n",
    "    elif adjustment_type == 'saturation':\n",
    "        img = cv2.cvtColor(img, cv2.COLOR_BGR2HSV)\n",
    "        v = img[:, :, 2]\n",
    "        v = np.int16(v)\n",
    "        v = v * (value / 127 + 1)\n",
    "        v = np.clip(v, 0, 255)\n",
    "        img[:, :, 2] = np.uint8(v)\n",
    "        img = cv2.cvtColor(img, cv2.COLOR_HSV2BGR)\n",
    "    return img\n",
    "\n",
    "def random_adjust(img):\n",
    "\n",
    "    h, w, _ = img.shape\n",
    "    \n",
    "    n = np.random.randint(15, 30)\n",
    "    for _ in range(n):  # n = number of regions to adjust\n",
    "        \n",
    "        kernel_size = np.random.randint(12, 20)\n",
    "        size = (kernel_size, kernel_size)\n",
    "        # Generate random coordinates\n",
    "        x = np.random.randint(0, w - size[1])\n",
    "        y = np.random.randint(0, h - size[0])\n",
    "\n",
    "        # Choose a random adjustment type and adjustment value\n",
    "#         adjustment_type = np.random.choice(['brightness', 'contrast', 'saturation'])\n",
    "        adjustment_type = np.random.choice(['brightness'])\n",
    "        print(adjustment_type)\n",
    "        value = np.random.randint(-80, 80)\n",
    "        print(value)\n",
    "\n",
    "        # Make a copy of the image to get a subimage\n",
    "        sub_img = img[y:y+size[0], x:x+size[1]].copy()\n",
    "        sub_img = adjust_one(sub_img, adjustment_type, value)\n",
    "        \n",
    "        # Replace the part of the image with the adjusted subimage\n",
    "        img[y:y+size[0], x:x+size[1]] = sub_img\n",
    "\n",
    "    return img\n",
    "\n",
    "# Replace 'path_to_your_image.jpg' with your image file path\n",
    "img = cv2.imread('/home/aman/ai/single_img_data_training/train/angle/168776259033451.jpg')\n",
    "img = random_adjust(img)\n",
    "cv2.imwrite(\"AutoBright.jpg\", img)\n",
    "# cv2.waitKey(0)\n",
    "# cv2.destroyAllWindows()\n"
   ]
  },
  {
   "cell_type": "code",
   "execution_count": null,
   "metadata": {},
   "outputs": [],
   "source": []
  }
 ],
 "metadata": {
  "kernelspec": {
   "display_name": "Python 3",
   "language": "python",
   "name": "python3"
  },
  "language_info": {
   "codemirror_mode": {
    "name": "ipython",
    "version": 3
   },
   "file_extension": ".py",
   "mimetype": "text/x-python",
   "name": "python",
   "nbconvert_exporter": "python",
   "pygments_lexer": "ipython3",
   "version": "3.8.10"
  }
 },
 "nbformat": 4,
 "nbformat_minor": 4
}

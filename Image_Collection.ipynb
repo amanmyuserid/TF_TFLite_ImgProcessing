{
 "cells": [
  {
   "cell_type": "code",
   "execution_count": null,
   "id": "622220fa",
   "metadata": {},
   "outputs": [],
   "source": []
  },
  {
   "cell_type": "code",
   "execution_count": 78,
   "id": "c45a2ce1",
   "metadata": {},
   "outputs": [
    {
     "name": "stderr",
     "output_type": "stream",
     "text": [
      "[ WARN:0@2214.846] global /croot/opencv-suite_1676452025216/work/modules/videoio/src/cap_gstreamer.cpp (862) isPipelinePlaying OpenCV | GStreamer warning: GStreamer: pipeline have not been created\n"
     ]
    },
    {
     "name": "stdout",
     "output_type": "stream",
     "text": [
      "Images will be saved in this folder :  /home/glarus/BKUP_HOOK_FILES/COLLECTED_IMAGES/20230707_152012_916511\n",
      "\n",
      "1 2 3 4 5 6 7 8 9 10 11 12 13 14 15 16 17 18 19 20 21 22 23 24 25 26 27 28 29 30 31 32 33 34 35 36 37 \n",
      "\n",
      "Images have been saved in this folder :  /home/glarus/BKUP_HOOK_FILES/COLLECTED_IMAGES/20230707_152012_916511\n"
     ]
    }
   ],
   "source": [
    "# To quit screen press ESC after runing the code\n",
    "# To save image press space keyboard\n",
    "# To save continious frame like video keep pressing space donot remove from pressing space \n",
    "\n",
    "\n",
    "\n",
    "import cv2, time, datetime, os\n",
    "\n",
    "\n",
    "img_height = 240 \n",
    "img_width = 320\n",
    "\n",
    "\n",
    "\n",
    "\n",
    "folder = \"COLLECTED_IMAGES\"\n",
    "\n",
    "current_datetime = datetime.datetime.now()\n",
    "\n",
    "date_time  = current_datetime.strftime(\"%Y%m%d_%H%M%S_%f\")\n",
    "\n",
    "\n",
    "final_folder = os.path.join(os.getcwd(), folder, date_time)\n",
    "\n",
    "try:\n",
    "    os.mkdir(folder)\n",
    "except:\n",
    "    pass\n",
    "\n",
    "try:\n",
    "    os.mkdir(final_folder)\n",
    "except:\n",
    "    pass\n",
    "\n",
    "\n",
    "\n",
    "\n",
    "cap = cv2.VideoCapture(0)\n",
    "cap.set(cv2.CAP_PROP_FRAME_WIDTH, img_width)\n",
    "cap.set(cv2.CAP_PROP_FRAME_HEIGHT, img_height)\n",
    "\n",
    "\n",
    "count = 1\n",
    "\n",
    "\n",
    "print(\"Images will be saved in this folder : \", final_folder)\n",
    "print(\"\")\n",
    "while True:\n",
    "    # Capture frame-by-frame\n",
    "    ret, frame = cap.read()\n",
    "    # if frame is read correctly ret is True\n",
    "    if not ret:\n",
    "        print(\"error in retrieving frame\")\n",
    "        break\n",
    "\n",
    "    cv2.imshow('frame', frame)\n",
    "\n",
    "    \n",
    "    key = cv2.waitKey(1)\n",
    "   \n",
    "    if key == 27:\n",
    "        break\n",
    "        \n",
    "    elif key== ord(\" \"):\n",
    "        \n",
    "        current_datetime = datetime.datetime.now()\n",
    "        date_time  = current_datetime.strftime(\"%Y%m%d_%H%M%S_%f\") + \".jpg\"      \n",
    "        \n",
    "        img_path = os.path.join(final_folder, date_time)\n",
    "        \n",
    "        cv2.imwrite(img_path, frame)\n",
    "        \n",
    "        print(count, end=\" \")\n",
    "        count+= 1\n",
    "\n",
    "cap.release()\n",
    "\n",
    "cv2.destroyAllWindows()\n",
    "\n",
    "print(\"\")\n",
    "print(\"\")\n",
    "print(\"Images have been saved in this folder : \", final_folder)"
   ]
  },
  {
   "cell_type": "code",
   "execution_count": null,
   "id": "ae72f410",
   "metadata": {},
   "outputs": [],
   "source": []
  },
  {
   "cell_type": "code",
   "execution_count": null,
   "id": "8a61f678",
   "metadata": {},
   "outputs": [],
   "source": []
  }
 ],
 "metadata": {
  "kernelspec": {
   "display_name": "Python 3 (ipykernel)",
   "language": "python",
   "name": "python3"
  },
  "language_info": {
   "codemirror_mode": {
    "name": "ipython",
    "version": 3
   },
   "file_extension": ".py",
   "mimetype": "text/x-python",
   "name": "python",
   "nbconvert_exporter": "python",
   "pygments_lexer": "ipython3",
   "version": "3.8.16"
  }
 },
 "nbformat": 4,
 "nbformat_minor": 5
}

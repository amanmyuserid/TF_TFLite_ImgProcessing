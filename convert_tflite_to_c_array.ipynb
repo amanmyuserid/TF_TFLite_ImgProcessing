{
 "cells": [
  {
   "cell_type": "code",
   "execution_count": null,
   "id": "4eb1f8d9",
   "metadata": {},
   "outputs": [],
   "source": [
    "# this is use run on mcu where there is no os in that type of mcu like esp32 or other \n"
   ]
  },
  {
   "cell_type": "code",
   "execution_count": null,
   "id": "af1195e2",
   "metadata": {},
   "outputs": [],
   "source": [
    "!xxd -i ./person_detect_model_data.tflite > person_detect_model_data.cpp\n"
   ]
  },
  {
   "cell_type": "code",
   "execution_count": null,
   "id": "d195d0dc",
   "metadata": {},
   "outputs": [],
   "source": [
    "search_text1 = \"unsigned char __person_detect_model_data_tflite[]\"\n",
    "\n",
    "\n",
    "replace_text1 = str('#include \"person_detect_model_data.h\" \\n\\\n",
    "#ifdef __has_attribute \\n\\\n",
    "#define HAVE_ATTRIBUTE(x) __has_attribute(x) \\n\\\n",
    "#else \\n\\\n",
    "#define HAVE_ATTRIBUTE(x) 0 \\n\\\n",
    "#endif \\n\\\n",
    "#if HAVE_ATTRIBUTE(aligned) || (defined(__GNUC__) && !defined(__clang__)) \\n\\\n",
    "#define DATA_ALIGN_ATTRIBUTE __attribute__((aligned(4))) \\n\\\n",
    "#else \\n\\\n",
    "#define DATA_ALIGN_ATTRIBUTE \\n\\\n",
    "#endif \\n\\\n",
    "const unsigned char g_person_detect_model_data[] DATA_ALIGN_ATTRIBUTE')\n",
    "\n",
    "\n",
    "search_text2 = \"unsigned int __person_detect_model_data_tflite_len\"\n",
    "\n",
    "replace_text2 = \"const int g_person_detect_model_data_len\"\n",
    "\n",
    "with open(r'person_detect_model_data.cpp', 'r') as file:\n",
    "\n",
    "    data = file.read()\n",
    "\n",
    "    data = data.replace(search_text1, replace_text1)\n",
    "    data = data.replace(search_text2, replace_text2)\n",
    "  # data = data.replace(search_text2, replace_text2)\n",
    "\n",
    "with open(r'person_detect_model_data.cpp', 'w') as file:\n",
    "    file.write(data)\n",
    "    file.close()\n",
    "\n",
    "\n",
    "\n",
    "print(\"Text replaced\")"
   ]
  }
 ],
 "metadata": {
  "kernelspec": {
   "display_name": "Python 3 (ipykernel)",
   "language": "python",
   "name": "python3"
  },
  "language_info": {
   "codemirror_mode": {
    "name": "ipython",
    "version": 3
   },
   "file_extension": ".py",
   "mimetype": "text/x-python",
   "name": "python",
   "nbconvert_exporter": "python",
   "pygments_lexer": "ipython3",
   "version": "3.8.16"
  }
 },
 "nbformat": 4,
 "nbformat_minor": 5
}

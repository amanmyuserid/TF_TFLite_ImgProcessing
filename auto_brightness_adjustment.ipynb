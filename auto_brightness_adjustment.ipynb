{
 "cells": [
  {
   "cell_type": "code",
   "execution_count": null,
   "id": "85907184",
   "metadata": {},
   "outputs": [],
   "source": [
    "# target mean should be 80 90 100 130 140 generally lower than 100 will give more darker image and more than 100 will\n",
    "# give more brighter image\n",
    "\n",
    "\n",
    "def auto_adjust_brightness(image, target_mean):\n",
    "\n",
    "    lab_image = cv2.cvtColor(image, cv2.COLOR_BGR2LAB)\n",
    "\n",
    "\n",
    "    l_channel, a_channel, b_channel = cv2.split(lab_image)\n",
    "\n",
    "\n",
    "    l_mean = np.mean(l_channel)\n",
    "\n",
    "\n",
    "    target_mean = target_mean # default 150  # Adjust this value as desired\n",
    "\n",
    "    diff = target_mean - l_mean\n",
    "\n",
    "\n",
    "\n",
    "    adjusted_l_channel = np.clip(l_channel + diff, 0, 255).astype(np.uint8)\n",
    "\n",
    "\n",
    "    adjusted_lab_image = cv2.merge((adjusted_l_channel, a_channel, b_channel))\n",
    "\n",
    "    adjusted_bgr_image = cv2.cvtColor(adjusted_lab_image, cv2.COLOR_LAB2BGR)    \n",
    "    \n",
    "    return adjusted_bgr_image\n",
    "\n",
    "\n"
   ]
  }
 ],
 "metadata": {
  "kernelspec": {
   "display_name": "Python 3 (ipykernel)",
   "language": "python",
   "name": "python3"
  },
  "language_info": {
   "codemirror_mode": {
    "name": "ipython",
    "version": 3
   },
   "file_extension": ".py",
   "mimetype": "text/x-python",
   "name": "python",
   "nbconvert_exporter": "python",
   "pygments_lexer": "ipython3",
   "version": "3.8.16"
  }
 },
 "nbformat": 4,
 "nbformat_minor": 5
}

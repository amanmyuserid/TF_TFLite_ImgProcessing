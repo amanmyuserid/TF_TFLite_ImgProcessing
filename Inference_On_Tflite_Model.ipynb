{
 "cells": [
  {
   "cell_type": "code",
   "execution_count": null,
   "id": "8855da9d",
   "metadata": {},
   "outputs": [],
   "source": [
    "import tflite_runtime"
   ]
  },
  {
   "cell_type": "code",
   "execution_count": null,
   "id": "337869b6",
   "metadata": {},
   "outputs": [],
   "source": [
    "tflite_model_path = \"21_june_1100_params_300_epoch_97acc_.tflite\"\n",
    "\n",
    "pred_folder_path = \"/home/glarus/HOOK_PROJECT/DATA_COLLECTION_HOOK/single_img_data3_exracted/all\""
   ]
  },
  {
   "cell_type": "code",
   "execution_count": null,
   "id": "10787990",
   "metadata": {},
   "outputs": [],
   "source": [
    "def auto_adjust_brightness(image, target_mean):\n",
    "\n",
    "    lab_image = cv2.cvtColor(image, cv2.COLOR_BGR2LAB)\n",
    "\n",
    "\n",
    "    l_channel, a_channel, b_channel = cv2.split(lab_image)\n",
    "\n",
    "\n",
    "    l_mean = np.mean(l_channel)\n",
    "\n",
    "\n",
    "    target_mean = target_mean # default 150  # Adjust this value as desired\n",
    "\n",
    "    diff = target_mean - l_mean\n",
    "\n",
    "\n",
    "\n",
    "    adjusted_l_channel = np.clip(l_channel + diff, 0, 255).astype(np.uint8)\n",
    "\n",
    "\n",
    "    adjusted_lab_image = cv2.merge((adjusted_l_channel, a_channel, b_channel))\n",
    "\n",
    "    adjusted_bgr_image = cv2.cvtColor(adjusted_lab_image, cv2.COLOR_LAB2BGR)    \n",
    "    \n",
    "    return adjusted_bgr_image"
   ]
  },
  {
   "cell_type": "code",
   "execution_count": null,
   "id": "c6f20302",
   "metadata": {},
   "outputs": [],
   "source": []
  },
  {
   "cell_type": "code",
   "execution_count": null,
   "id": "5ac6bdbe",
   "metadata": {},
   "outputs": [],
   "source": []
  },
  {
   "cell_type": "code",
   "execution_count": null,
   "id": "f959356b",
   "metadata": {},
   "outputs": [],
   "source": [
    "import glob, cv2\n",
    "\n",
    "\n",
    "tflite_model_path = tflite_model_path\n",
    "\n",
    "\n",
    "interpreter = tf.lite.Interpreter(model_path=tflite_model_path)\n",
    "interpreter.allocate_tensors()\n",
    "input_details = interpreter.get_input_details()\n",
    "output_details = interpreter.get_output_details()\n",
    "\n",
    "for img_path in glob.glob((pred_folder_path+\"/*\")):\n",
    "    \n",
    "    img = cv2.imread(img_path)\n",
    "    \n",
    "    inp_img = cv2.resize(img, (160, 120))[:,:,::-1]\n",
    "    \n",
    "    \n",
    "    inp_img = auto_adjust_brightness(inp_img, 140)\n",
    "    \n",
    "\n",
    "    inp_img = np.expand_dims(inp_img, axis = 0)   \n",
    "    \n",
    "    #tflite inference\n",
    "    interpreter.set_tensor(input_details[0]['index'], inp_img)\n",
    "    \n",
    "    interpreter.invoke()\n",
    "    \n",
    "    output_data = interpreter.get_tensor(output_details[0]['index'])\n",
    "    \n",
    "    black_img = np.zeros_like(img)\n",
    "    \n",
    "    cv2.putText(black_img, \"TFL \" + class_names[np.argmax(output_data)], (5, 60),cv2.FONT_HERSHEY_SIMPLEX, 0.5, (0, 255, 0), 1)\n",
    "    cv2.putText(black_img, \"TFL \" + str(np.round(np.max(output_data)*100))+\" %\", (5, 80),cv2.FONT_HERSHEY_SIMPLEX, 0.5, (0, 255, 0), 1)\n",
    "    \n",
    "    img_and_pred = np.concatenate((img, black_img), axis=1)\n",
    "    \n",
    "    cv2.imshow('Live',img_and_pred)\n",
    "    key = cv2.waitKey(0) & 0xFF\n",
    "    if  key == 27:\n",
    "        break\n",
    "    else:\n",
    "        pass\n",
    "    \n",
    "    \n",
    "cv2.destroyAllWindows()"
   ]
  },
  {
   "cell_type": "code",
   "execution_count": null,
   "id": "d4efecd6",
   "metadata": {},
   "outputs": [],
   "source": []
  },
  {
   "cell_type": "code",
   "execution_count": null,
   "id": "2061ee60",
   "metadata": {},
   "outputs": [],
   "source": []
  },
  {
   "cell_type": "code",
   "execution_count": null,
   "id": "1eb763d8",
   "metadata": {},
   "outputs": [],
   "source": []
  }
 ],
 "metadata": {
  "kernelspec": {
   "display_name": "Python 3 (ipykernel)",
   "language": "python",
   "name": "python3"
  },
  "language_info": {
   "codemirror_mode": {
    "name": "ipython",
    "version": 3
   },
   "file_extension": ".py",
   "mimetype": "text/x-python",
   "name": "python",
   "nbconvert_exporter": "python",
   "pygments_lexer": "ipython3",
   "version": "3.8.16"
  }
 },
 "nbformat": 4,
 "nbformat_minor": 5
}

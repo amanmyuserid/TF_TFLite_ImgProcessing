{
 "cells": [
  {
   "cell_type": "code",
   "execution_count": 1,
   "id": "b9711664",
   "metadata": {},
   "outputs": [
    {
     "name": "stdout",
     "output_type": "stream",
     "text": [
      "Video saved successfully.\n"
     ]
    }
   ],
   "source": [
    "import cv2, os\n",
    "\n",
    "\n",
    "# Directory containing the input images\n",
    "image_directory = \"/home/glarus/HOOK_PROJECT/TEST_RESULT/4th_july_hook_result\"\n",
    "\n",
    "# Output video file\n",
    "output_video = \"/home/glarus/HOOK_PROJECT/TEST_RESULT/result.mp4\"\n",
    "\n",
    "\n",
    "# Function to get the list of image files in a directory\n",
    "def get_image_files(directory):\n",
    "    image_files = []\n",
    "    for filename in os.listdir(directory):\n",
    "        if filename.endswith(\".jpg\") or filename.endswith(\".png\"):\n",
    "            image_files.append(os.path.join(directory, filename))\n",
    "    return image_files\n",
    "\n",
    "\n",
    "# Get the list of image files\n",
    "image_files = get_image_files(image_directory)\n",
    "\n",
    "# Read the first image to get the dimensions\n",
    "first_image = cv2.imread(image_files[0])\n",
    "height, width, channels = first_image.shape\n",
    "\n",
    "# Define the video codec and create a VideoWriter object\n",
    "fourcc = cv2.VideoWriter_fourcc(*\"mp4v\")\n",
    "video_writer = cv2.VideoWriter(output_video, fourcc, 15, (width, height))\n",
    "\n",
    "# Iterate over the image files and write each frame to the video\n",
    "for image_file in sorted(image_files):\n",
    "    image = cv2.imread(image_file)\n",
    "    video_writer.write(image)\n",
    "\n",
    "# Release the VideoWriter and display a message\n",
    "video_writer.release()\n",
    "print(\"Video saved successfully.\")"
   ]
  },
  {
   "cell_type": "code",
   "execution_count": null,
   "id": "afddd46e",
   "metadata": {},
   "outputs": [],
   "source": []
  }
 ],
 "metadata": {
  "kernelspec": {
   "display_name": "Python 3 (ipykernel)",
   "language": "python",
   "name": "python3"
  },
  "language_info": {
   "codemirror_mode": {
    "name": "ipython",
    "version": 3
   },
   "file_extension": ".py",
   "mimetype": "text/x-python",
   "name": "python",
   "nbconvert_exporter": "python",
   "pygments_lexer": "ipython3",
   "version": "3.8.16"
  }
 },
 "nbformat": 4,
 "nbformat_minor": 5
}
